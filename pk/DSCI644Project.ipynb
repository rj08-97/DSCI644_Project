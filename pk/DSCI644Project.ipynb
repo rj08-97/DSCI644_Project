{
  "nbformat": 4,
  "nbformat_minor": 0,
  "metadata": {
    "colab": {
      "name": "DSCI601Project.ipynb",
      "provenance": [],
      "collapsed_sections": [],
      "include_colab_link": true
    },
    "kernelspec": {
      "name": "python3",
      "display_name": "Python 3"
    },
    "language_info": {
      "name": "python"
    }
  },
  "cells": [
    {
      "cell_type": "markdown",
      "metadata": {
        "id": "view-in-github",
        "colab_type": "text"
      },
      "source": [
        "<a href=\"https://colab.research.google.com/github/rj08-97/DSCI644_Project/blob/main/pk/DSCI601Project.ipynb\" target=\"_parent\"><img src=\"https://colab.research.google.com/assets/colab-badge.svg\" alt=\"Open In Colab\"/></a>"
      ]
    },
    {
      "cell_type": "code",
      "metadata": {
        "id": "ns5nP2E10AJk"
      },
      "source": [
        "# Model Training and Testing \n",
        "# Author: Paridhi Khandelwal\n",
        "\n",
        "import imblearn\n",
        "import numpy as np\n",
        "import pandas as pd\n",
        "from imblearn.over_sampling import RandomOverSampler\n",
        "from sklearn import preprocessing\n",
        "from sklearn.linear_model import LogisticRegression\n",
        "from sklearn.model_selection import train_test_split\n",
        "import matplotlib.pyplot as plt\n",
        "from sklearn import metrics\n",
        "from sklearn.metrics import classification_report\n",
        "from sklearn.metrics import roc_auc_score\n",
        "from sklearn.metrics import roc_curve\n",
        "import numpy\n",
        "from sklearn import svm\n",
        "from sklearn.linear_model import SGDClassifier\n",
        "from sklearn.metrics import f1_score\n",
        "from matplotlib.pyplot import imshow\n",
        "import matplotlib.pyplot as plt\n",
        "from sklearn.svm import SVC\n",
        "from sklearn.model_selection import GridSearchCV"
      ],
      "execution_count": null,
      "outputs": []
    },
    {
      "cell_type": "code",
      "metadata": {
        "colab": {
          "base_uri": "https://localhost:8080/"
        },
        "id": "24XZLw050Uzn",
        "outputId": "da61314d-85f9-4937-f39d-dd8dda65ef8f"
      },
      "source": [
        "df = pd.read_csv(\"DataSetCuratedExtended2020.csv\")\n",
        "print(df)"
      ],
      "execution_count": null,
      "outputs": [
        {
          "output_type": "stream",
          "text": [
            "      Commit A  Commit B  ... CyclomaticStrict  Hit/Dismiss\n",
            "0     d9545c7f  8f449614  ...        -0.160791            0\n",
            "1     d9545c7f  8f449614  ...        -0.160791            0\n",
            "2     d9545c7f  8f449614  ...        -0.160791            0\n",
            "3     d9545c7f  8f449614  ...        -0.160791            0\n",
            "4     d9545c7f  8f449614  ...        -0.160791            0\n",
            "...        ...       ...  ...              ...          ...\n",
            "6378  b7b744f2  9b669787  ...         0.080176            0\n",
            "6379  b7b744f2  9b669787  ...         0.080176            0\n",
            "6380  b7b744f2  9b669787  ...         0.080176            0\n",
            "6381  b7b744f2  9b669787  ...         0.080176            0\n",
            "6382  b7b744f2  9b669787  ...         0.080176            0\n",
            "\n",
            "[6383 rows x 50 columns]\n"
          ],
          "name": "stdout"
        }
      ]
    },
    {
      "cell_type": "code",
      "metadata": {
        "id": "vBhJXw_3xiAL"
      },
      "source": [
        "# oversample the minority class\n",
        "def count(X):\n",
        "  zero = 0\n",
        "  one = 0\n",
        "  for i in range(len(X)):\n",
        "    if (X[i] == 0):\n",
        "      zero += 1\n",
        "    else:\n",
        "      one += 1\n",
        "  print(\"Zero: \" + str(zero))\n",
        "  print(\"One: \" + str(one) )\n"
      ],
      "execution_count": null,
      "outputs": []
    },
    {
      "cell_type": "code",
      "metadata": {
        "id": "Ze4JU55k0BBB",
        "colab": {
          "base_uri": "https://localhost:8080/"
        },
        "outputId": "1784a6a4-89ca-49a2-8b63-1ae0fc29882c"
      },
      "source": [
        "# removing text columns and a row which had boolean FALSE values for all commits\n",
        "data = df.drop(['Hit/Dismiss'],axis=1).drop(['Commit A'],axis=1).drop(['Commit B'],axis=1).drop(['Benchmark'],axis=1).drop(['Top Chg by Instr >= X%'],axis=1)\n",
        "# replacing mean value for all non applicable, blank space and  bigger values \n",
        "data = data.fillna(data.mean())\n",
        "# normalize and scale the data\n",
        "data = preprocessing.normalize(data)\n",
        "data = preprocessing.scale(data)\n",
        "oversample = RandomOverSampler(sampling_strategy='minority')\n",
        "x = data\n",
        "y = df['Hit/Dismiss'].values\n",
        "X_over, y_over = oversample.fit_resample(x, y)\n",
        "X_train, X_test, y_train, y_test = train_test_split(x,y, test_size=0.20, random_state=40)\n"
      ],
      "execution_count": null,
      "outputs": [
        {
          "output_type": "stream",
          "text": [
            "/usr/local/lib/python3.7/dist-packages/sklearn/utils/deprecation.py:87: FutureWarning: Function safe_indexing is deprecated; safe_indexing is deprecated in version 0.22 and will be removed in version 0.24.\n",
            "  warnings.warn(msg, category=FutureWarning)\n"
          ],
          "name": "stderr"
        }
      ]
    },
    {
      "cell_type": "code",
      "metadata": {
        "id": "NL2lqed8VD-t"
      },
      "source": [
        "# Logistic Regression Model training for choosing baseline model with SVM all features\n",
        "model1 = LogisticRegression()\n",
        "model1.fit(X_train, y_train)\n",
        "pred_prob1 = model1.predict_proba(X_test)"
      ],
      "execution_count": null,
      "outputs": []
    },
    {
      "cell_type": "code",
      "metadata": {
        "id": "sBSazCuzVHtS"
      },
      "source": [
        "# ROC curve and area under curve value for logistic regression\n",
        "logit_roc_auc = roc_auc_score(y, model1.predict(x))\n",
        "fpr, tpr, thresh = roc_curve(y_test, pred_prob1[:,1], pos_label=1)\n",
        "plt.figure()\n",
        "plt.plot(fpr, tpr, label='LR (area = %0.2f)' % logit_roc_auc)\n",
        "plt.plot([0, 1], [0, 1],'r--')\n",
        "plt.xlim([0.0, 1.0])\n",
        "plt.ylim([0.0, 1.05])\n",
        "plt.xlabel('False Positive Rate')\n",
        "plt.ylabel('True Positive Rate')\n",
        "plt.title('Receiver operating characteristic')\n",
        "plt.legend(loc=\"lower right\")\n",
        "plt.show()"
      ],
      "execution_count": null,
      "outputs": []
    },
    {
      "cell_type": "code",
      "metadata": {
        "colab": {
          "base_uri": "https://localhost:8080/"
        },
        "id": "C1ObPiic1I4w",
        "outputId": "4efd9509-2348-449e-add8-6952b9b0aee3"
      },
      "source": [
        "# SVM with all features\n",
        "lf = svm.LinearSVC()\n",
        "lf.fit(X_over,y_over)\n",
        "predictions = lf.predict(X_test)\n",
        "print(\"Result for SVM\")\n",
        "print('Accuracy {}'.format(lf.score(X_test,y_test)))\n",
        "print(classification_report(y_test, predictions))\n",
        "mac = f1_score(y_test, predictions, average='macro')\n",
        "mic = f1_score(y_test, predictions, average='micro')\n",
        "wei = f1_score(y_test, predictions, average='weighted')\n",
        "f1_score = (mac + mic +wei) / 3\n",
        "print(\"F1 score: \" + str(f1_score))"
      ],
      "execution_count": null,
      "outputs": [
        {
          "output_type": "stream",
          "text": [
            "Result for SVM\n",
            "Accuracy 0.60610806577917\n",
            "              precision    recall  f1-score   support\n",
            "\n",
            "           0       0.97      0.60      0.74      1201\n",
            "           1       0.10      0.67      0.17        76\n",
            "\n",
            "    accuracy                           0.61      1277\n",
            "   macro avg       0.53      0.64      0.46      1277\n",
            "weighted avg       0.91      0.61      0.71      1277\n",
            "\n",
            "F1 score: 0.5897209694295802\n"
          ],
          "name": "stdout"
        },
        {
          "output_type": "stream",
          "text": [
            "/usr/local/lib/python3.7/dist-packages/sklearn/svm/_base.py:947: ConvergenceWarning: Liblinear failed to converge, increase the number of iterations.\n",
            "  \"the number of iterations.\", ConvergenceWarning)\n"
          ],
          "name": "stderr"
        }
      ]
    },
    {
      "cell_type": "code",
      "metadata": {
        "colab": {
          "base_uri": "https://localhost:8080/",
          "height": 295
        },
        "id": "-6V3xVKhwi60",
        "outputId": "b91988d9-4fd0-43f7-8e12-e14641c78674"
      },
      "source": [
        "# ROC curve and area under curve value\n",
        "logit_roc_auc = roc_auc_score(y, lf.predict(x))\n",
        "fpr, tpr, thresholds = roc_curve(y, lf.predict(x))\n",
        "plt.figure()\n",
        "plt.plot(fpr, tpr, label='SVM (area = %0.2f)' % logit_roc_auc)\n",
        "plt.plot([0, 1], [0, 1],'r--')\n",
        "plt.xlim([0.0, 1.0])\n",
        "plt.ylim([0.0, 1.05])\n",
        "plt.xlabel('False Positive Rate')\n",
        "plt.ylabel('True Positive Rate')\n",
        "plt.title('Receiver operating characteristic')\n",
        "plt.legend(loc=\"lower right\")\n",
        "plt.show()"
      ],
      "execution_count": null,
      "outputs": [
        {
          "output_type": "display_data",
          "data": {
            "image/png": "[encoded data removed]",
            "text/plain": [
              "<Figure size 432x288 with 1 Axes>"
            ]
          },
          "metadata": {
            "tags": [],
            "needs_background": "light"
          }
        }
      ]
    },
    {
      "cell_type": "code",
      "metadata": {
        "colab": {
          "base_uri": "https://localhost:8080/"
        },
        "id": "n2GgEwGj4OrS",
        "outputId": "b881e1d7-bc5d-433f-c1f7-90690c96796f"
      },
      "source": [
        ""
      ],
      "execution_count": null,
      "outputs": [
        {
          "output_type": "stream",
          "text": [
            "/usr/local/lib/python3.7/dist-packages/sklearn/linear_model/_logistic.py:940: ConvergenceWarning: lbfgs failed to converge (status=1):\n",
            "STOP: TOTAL NO. of ITERATIONS REACHED LIMIT.\n",
            "\n",
            "Increase the number of iterations (max_iter) or scale the data as shown in:\n",
            "    https://scikit-learn.org/stable/modules/preprocessing.html\n",
            "Please also refer to the documentation for alternative solver options:\n",
            "    https://scikit-learn.org/stable/modules/linear_model.html#logistic-regression\n",
            "  extra_warning_msg=_LOGISTIC_SOLVER_CONVERGENCE_MSG)\n"
          ],
          "name": "stderr"
        }
      ]
    },
    {
      "cell_type": "code",
      "metadata": {
        "colab": {
          "base_uri": "https://localhost:8080/",
          "height": 295
        },
        "id": "tqxds-A04thT",
        "outputId": "ab59eb7b-36e7-4e57-d0d3-b7fbe0ec11b5"
      },
      "source": [
        ""
      ],
      "execution_count": null,
      "outputs": [
        {
          "output_type": "display_data",
          "data": {
            "image/png": "[encoded data removed]",
            "text/plain": [
              "<Figure size 432x288 with 1 Axes>"
            ]
          },
          "metadata": {
            "tags": [],
            "needs_background": "light"
          }
        }
      ]
    },{
       "cell_type": "code",
       "metadata": {
         "colab": {
           "base_uri": "https://localhost:8080/"
         },
         "id": "VMbs1gCz2kNg",
         "outputId": "4b0391db-c985-4595-bbd3-e8330b1a335a"
       },
      "source": [
        "# SVM with hyperparameter tuning \n",
        "# defining parameter range\n",
        "param_grid = {'C': [0.1, 1, 10, 100, 1000], \n",
        "              'gamma': [1, 0.1, 0.01, 0.001, 0.0001],\n",
        "              'kernel': ['rbf']}  \n",
        "grid = GridSearchCV(SVC(), param_grid, refit = True, verbose = 3)\n",
        "grid.fit(X_train, y_train)"
      ],
      "execution_count": null,
      "outputs": [
        {
          "output_type": "stream",
          "text": [
            "Fitting 5 folds for each of 25 candidates, totalling 125 fits\n",
            "[CV] C=0.1, gamma=1, kernel=rbf ......................................\n"
          ],
          "name": "stdout"
        },
        {
          "output_type": "stream",
          "text": [
            "[Parallel(n_jobs=1)]: Using backend SequentialBackend with 1 concurrent workers.\n"
          ],
          "name": "stderr"
        },
        {
          "output_type": "stream",
          "text": [
            "[CV] .......... C=0.1, gamma=1, kernel=rbf, score=0.936, total=   0.5s\n",
            "[CV] C=0.1, gamma=1, kernel=rbf ......................................\n"
          ],
          "name": "stdout"
        },
        {
          "output_type": "stream",
          "text": [
            "[Parallel(n_jobs=1)]: Done   1 out of   1 | elapsed:    0.5s remaining:    0.0s\n"
          ],
          "name": "stderr"
        },
        {
          "output_type": "stream",
          "text": [
            "[CV] .......... C=0.1, gamma=1, kernel=rbf, score=0.936, total=   0.5s\n",
            "[CV] C=0.1, gamma=1, kernel=rbf ......................................\n"
          ],
          "name": "stdout"
        },
        {
          "output_type": "stream",
          "text": [
            "[Parallel(n_jobs=1)]: Done   2 out of   2 | elapsed:    1.0s remaining:    0.0s\n"
          ],
          "name": "stderr"
        },
        {
          "output_type": "stream",
          "text": [
            "[CV] .......... C=0.1, gamma=1, kernel=rbf, score=0.936, total=   0.5s\n",
            "[CV] C=0.1, gamma=1, kernel=rbf ......................................\n",
            "[CV] .......... C=0.1, gamma=1, kernel=rbf, score=0.936, total=   0.5s\n",
            "[CV] C=0.1, gamma=1, kernel=rbf ......................................\n",
            "[CV] .......... C=0.1, gamma=1, kernel=rbf, score=0.936, total=   0.5s\n",
            "[CV] C=0.1, gamma=0.1, kernel=rbf ....................................\n",
            "[CV] ........ C=0.1, gamma=0.1, kernel=rbf, score=0.936, total=   0.4s\n",
            "[CV] C=0.1, gamma=0.1, kernel=rbf ....................................\n",
            "[CV] ........ C=0.1, gamma=0.1, kernel=rbf, score=0.936, total=   0.4s\n",
            "[CV] C=0.1, gamma=0.1, kernel=rbf ....................................\n",
            "[CV] ........ C=0.1, gamma=0.1, kernel=rbf, score=0.936, total=   0.4s\n",
            "[CV] C=0.1, gamma=0.1, kernel=rbf ....................................\n",
            "[CV] ........ C=0.1, gamma=0.1, kernel=rbf, score=0.936, total=   0.4s\n",
            "[CV] C=0.1, gamma=0.1, kernel=rbf ....................................\n",
            "[CV] ........ C=0.1, gamma=0.1, kernel=rbf, score=0.936, total=   0.4s\n",
            "[CV] C=0.1, gamma=0.01, kernel=rbf ...................................\n",
            "[CV] ....... C=0.1, gamma=0.01, kernel=rbf, score=0.936, total=   0.3s\n",
            "[CV] C=0.1, gamma=0.01, kernel=rbf ...................................\n",
            "[CV] ....... C=0.1, gamma=0.01, kernel=rbf, score=0.936, total=   0.3s\n",
            "[CV] C=0.1, gamma=0.01, kernel=rbf ...................................\n",
            "[CV] ....... C=0.1, gamma=0.01, kernel=rbf, score=0.936, total=   0.3s\n",
            "[CV] C=0.1, gamma=0.01, kernel=rbf ...................................\n",
            "[CV] ....... C=0.1, gamma=0.01, kernel=rbf, score=0.936, total=   0.3s\n",
            "[CV] C=0.1, gamma=0.01, kernel=rbf ...................................\n",
            "[CV] ....... C=0.1, gamma=0.01, kernel=rbf, score=0.936, total=   0.3s\n",
            "[CV] C=0.1, gamma=0.001, kernel=rbf ..................................\n",
            "[CV] ...... C=0.1, gamma=0.001, kernel=rbf, score=0.936, total=   0.3s\n",
            "[CV] C=0.1, gamma=0.001, kernel=rbf ..................................\n",
            "[CV] ...... C=0.1, gamma=0.001, kernel=rbf, score=0.936, total=   0.3s\n",
            "[CV] C=0.1, gamma=0.001, kernel=rbf ..................................\n",
            "[CV] ...... C=0.1, gamma=0.001, kernel=rbf, score=0.936, total=   0.3s\n",
            "[CV] C=0.1, gamma=0.001, kernel=rbf ..................................\n",
            "[CV] ...... C=0.1, gamma=0.001, kernel=rbf, score=0.936, total=   0.3s\n",
            "[CV] C=0.1, gamma=0.001, kernel=rbf ..................................\n",
            "[CV] ...... C=0.1, gamma=0.001, kernel=rbf, score=0.936, total=   0.3s\n",
            "[CV] C=0.1, gamma=0.0001, kernel=rbf .................................\n",
            "[CV] ..... C=0.1, gamma=0.0001, kernel=rbf, score=0.936, total=   0.2s\n",
            "[CV] C=0.1, gamma=0.0001, kernel=rbf .................................\n",
            "[CV] ..... C=0.1, gamma=0.0001, kernel=rbf, score=0.936, total=   0.2s\n",
            "[CV] C=0.1, gamma=0.0001, kernel=rbf .................................\n",
            "[CV] ..... C=0.1, gamma=0.0001, kernel=rbf, score=0.936, total=   0.2s\n",
            "[CV] C=0.1, gamma=0.0001, kernel=rbf .................................\n",
            "[CV] ..... C=0.1, gamma=0.0001, kernel=rbf, score=0.936, total=   0.2s\n",
            "[CV] C=0.1, gamma=0.0001, kernel=rbf .................................\n",
            "[CV] ..... C=0.1, gamma=0.0001, kernel=rbf, score=0.936, total=   0.2s\n",
            "[CV] C=1, gamma=1, kernel=rbf ........................................\n",
            "[CV] ............ C=1, gamma=1, kernel=rbf, score=0.952, total=   0.5s\n",
            "[CV] C=1, gamma=1, kernel=rbf ........................................\n",
            "[CV] ............ C=1, gamma=1, kernel=rbf, score=0.949, total=   0.5s\n",
            "[CV] C=1, gamma=1, kernel=rbf ........................................\n",
            "[CV] ............ C=1, gamma=1, kernel=rbf, score=0.943, total=   0.5s\n",
            "[CV] C=1, gamma=1, kernel=rbf ........................................\n",
            "[CV] ............ C=1, gamma=1, kernel=rbf, score=0.951, total=   0.6s\n",
            "[CV] C=1, gamma=1, kernel=rbf ........................................\n",
            "[CV] ............ C=1, gamma=1, kernel=rbf, score=0.951, total=   0.5s\n",
            "[CV] C=1, gamma=0.1, kernel=rbf ......................................\n",
            "[CV] .......... C=1, gamma=0.1, kernel=rbf, score=0.943, total=   0.5s\n",
            "[CV] C=1, gamma=0.1, kernel=rbf ......................................\n",
            "[CV] .......... C=1, gamma=0.1, kernel=rbf, score=0.942, total=   0.5s\n",
            "[CV] C=1, gamma=0.1, kernel=rbf ......................................\n",
            "[CV] .......... C=1, gamma=0.1, kernel=rbf, score=0.938, total=   0.4s\n",
            "[CV] C=1, gamma=0.1, kernel=rbf ......................................\n",
            "[CV] .......... C=1, gamma=0.1, kernel=rbf, score=0.940, total=   0.5s\n",
            "[CV] C=1, gamma=0.1, kernel=rbf ......................................\n",
            "[CV] .......... C=1, gamma=0.1, kernel=rbf, score=0.941, total=   0.5s\n",
            "[CV] C=1, gamma=0.01, kernel=rbf .....................................\n",
            "[CV] ......... C=1, gamma=0.01, kernel=rbf, score=0.936, total=   0.4s\n",
            "[CV] C=1, gamma=0.01, kernel=rbf .....................................\n",
            "[CV] ......... C=1, gamma=0.01, kernel=rbf, score=0.938, total=   0.5s\n",
            "[CV] C=1, gamma=0.01, kernel=rbf .....................................\n",
            "[CV] ......... C=1, gamma=0.01, kernel=rbf, score=0.936, total=   0.4s\n",
            "[CV] C=1, gamma=0.01, kernel=rbf .....................................\n",
            "[CV] ......... C=1, gamma=0.01, kernel=rbf, score=0.938, total=   0.4s\n",
            "[CV] C=1, gamma=0.01, kernel=rbf .....................................\n",
            "[CV] ......... C=1, gamma=0.01, kernel=rbf, score=0.938, total=   0.4s\n",
            "[CV] C=1, gamma=0.001, kernel=rbf ....................................\n",
            "[CV] ........ C=1, gamma=0.001, kernel=rbf, score=0.936, total=   0.4s\n",
            "[CV] C=1, gamma=0.001, kernel=rbf ....................................\n",
            "[CV] ........ C=1, gamma=0.001, kernel=rbf, score=0.936, total=   0.3s\n",
            "[CV] C=1, gamma=0.001, kernel=rbf ....................................\n",
            "[CV] ........ C=1, gamma=0.001, kernel=rbf, score=0.936, total=   0.3s\n",
            "[CV] C=1, gamma=0.001, kernel=rbf ....................................\n",
            "[CV] ........ C=1, gamma=0.001, kernel=rbf, score=0.936, total=   0.4s\n",
            "[CV] C=1, gamma=0.001, kernel=rbf ....................................\n",
            "[CV] ........ C=1, gamma=0.001, kernel=rbf, score=0.936, total=   0.4s\n",
            "[CV] C=1, gamma=0.0001, kernel=rbf ...................................\n",
            "[CV] ....... C=1, gamma=0.0001, kernel=rbf, score=0.936, total=   0.3s\n",
            "[CV] C=1, gamma=0.0001, kernel=rbf ...................................\n",
            "[CV] ....... C=1, gamma=0.0001, kernel=rbf, score=0.936, total=   0.3s\n",
            "[CV] C=1, gamma=0.0001, kernel=rbf ...................................\n",
            "[CV] ....... C=1, gamma=0.0001, kernel=rbf, score=0.936, total=   0.2s\n",
            "[CV] C=1, gamma=0.0001, kernel=rbf ...................................\n",
            "[CV] ....... C=1, gamma=0.0001, kernel=rbf, score=0.936, total=   0.3s\n",
            "[CV] C=1, gamma=0.0001, kernel=rbf ...................................\n",
            "[CV] ....... C=1, gamma=0.0001, kernel=rbf, score=0.936, total=   0.3s\n",
            "[CV] C=10, gamma=1, kernel=rbf .......................................\n",
            "[CV] ........... C=10, gamma=1, kernel=rbf, score=0.961, total=   0.6s\n",
            "[CV] C=10, gamma=1, kernel=rbf .......................................\n",
            "[CV] ........... C=10, gamma=1, kernel=rbf, score=0.957, total=   0.6s\n",
            "[CV] C=10, gamma=1, kernel=rbf .......................................\n",
            "[CV] ........... C=10, gamma=1, kernel=rbf, score=0.947, total=   0.6s\n",
            "[CV] C=10, gamma=1, kernel=rbf .......................................\n",
            "[CV] ........... C=10, gamma=1, kernel=rbf, score=0.966, total=   0.7s\n",
            "[CV] C=10, gamma=1, kernel=rbf .......................................\n",
            "[CV] ........... C=10, gamma=1, kernel=rbf, score=0.958, total=   0.6s\n",
            "[CV] C=10, gamma=0.1, kernel=rbf .....................................\n",
            "[CV] ......... C=10, gamma=0.1, kernel=rbf, score=0.949, total=   0.5s\n",
            "[CV] C=10, gamma=0.1, kernel=rbf .....................................\n",
            "[CV] ......... C=10, gamma=0.1, kernel=rbf, score=0.949, total=   0.6s\n",
            "[CV] C=10, gamma=0.1, kernel=rbf .....................................\n",
            "[CV] ......... C=10, gamma=0.1, kernel=rbf, score=0.942, total=   0.5s\n",
            "[CV] C=10, gamma=0.1, kernel=rbf .....................................\n",
            "[CV] ......... C=10, gamma=0.1, kernel=rbf, score=0.946, total=   0.5s\n",
            "[CV] C=10, gamma=0.1, kernel=rbf .....................................\n",
            "[CV] ......... C=10, gamma=0.1, kernel=rbf, score=0.949, total=   0.5s\n",
            "[CV] C=10, gamma=0.01, kernel=rbf ....................................\n",
            "[CV] ........ C=10, gamma=0.01, kernel=rbf, score=0.939, total=   0.6s\n",
            "[CV] C=10, gamma=0.01, kernel=rbf ....................................\n",
            "[CV] ........ C=10, gamma=0.01, kernel=rbf, score=0.939, total=   0.6s\n",
            "[CV] C=10, gamma=0.01, kernel=rbf ....................................\n",
            "[CV] ........ C=10, gamma=0.01, kernel=rbf, score=0.936, total=   0.6s\n",
            "[CV] C=10, gamma=0.01, kernel=rbf ....................................\n",
            "[CV] ........ C=10, gamma=0.01, kernel=rbf, score=0.938, total=   0.6s\n",
            "[CV] C=10, gamma=0.01, kernel=rbf ....................................\n",
            "[CV] ........ C=10, gamma=0.01, kernel=rbf, score=0.940, total=   0.5s\n",
            "[CV] C=10, gamma=0.001, kernel=rbf ...................................\n",
            "[CV] ....... C=10, gamma=0.001, kernel=rbf, score=0.936, total=   0.5s\n",
            "[CV] C=10, gamma=0.001, kernel=rbf ...................................\n",
            "[CV] ....... C=10, gamma=0.001, kernel=rbf, score=0.936, total=   0.5s\n",
            "[CV] C=10, gamma=0.001, kernel=rbf ...................................\n",
            "[CV] ....... C=10, gamma=0.001, kernel=rbf, score=0.936, total=   0.5s\n",
            "[CV] C=10, gamma=0.001, kernel=rbf ...................................\n",
            "[CV] ....... C=10, gamma=0.001, kernel=rbf, score=0.937, total=   0.6s\n",
            "[CV] C=10, gamma=0.001, kernel=rbf ...................................\n",
            "[CV] ....... C=10, gamma=0.001, kernel=rbf, score=0.937, total=   0.5s\n",
            "[CV] C=10, gamma=0.0001, kernel=rbf ..................................\n",
            "[CV] ...... C=10, gamma=0.0001, kernel=rbf, score=0.936, total=   0.3s\n",
            "[CV] C=10, gamma=0.0001, kernel=rbf ..................................\n",
            "[CV] ...... C=10, gamma=0.0001, kernel=rbf, score=0.936, total=   0.4s\n",
            "[CV] C=10, gamma=0.0001, kernel=rbf ..................................\n",
            "[CV] ...... C=10, gamma=0.0001, kernel=rbf, score=0.936, total=   0.4s\n",
            "[CV] C=10, gamma=0.0001, kernel=rbf ..................................\n",
            "[CV] ...... C=10, gamma=0.0001, kernel=rbf, score=0.936, total=   0.4s\n",
            "[CV] C=10, gamma=0.0001, kernel=rbf ..................................\n",
            "[CV] ...... C=10, gamma=0.0001, kernel=rbf, score=0.936, total=   0.4s\n",
            "[CV] C=100, gamma=1, kernel=rbf ......................................\n",
            "[CV] .......... C=100, gamma=1, kernel=rbf, score=0.968, total=   0.7s\n",
            "[CV] C=100, gamma=1, kernel=rbf ......................................\n",
            "[CV] .......... C=100, gamma=1, kernel=rbf, score=0.963, total=   0.7s\n",
            "[CV] C=100, gamma=1, kernel=rbf ......................................\n",
            "[CV] .......... C=100, gamma=1, kernel=rbf, score=0.951, total=   0.8s\n",
            "[CV] C=100, gamma=1, kernel=rbf ......................................\n",
            "[CV] .......... C=100, gamma=1, kernel=rbf, score=0.967, total=   0.8s\n",
            "[CV] C=100, gamma=1, kernel=rbf ......................................\n",
            "[CV] .......... C=100, gamma=1, kernel=rbf, score=0.962, total=   0.8s\n",
            "[CV] C=100, gamma=0.1, kernel=rbf ....................................\n",
            "[CV] ........ C=100, gamma=0.1, kernel=rbf, score=0.961, total=   0.7s\n",
            "[CV] C=100, gamma=0.1, kernel=rbf ....................................\n",
            "[CV] ........ C=100, gamma=0.1, kernel=rbf, score=0.955, total=   0.7s\n",
            "[CV] C=100, gamma=0.1, kernel=rbf ....................................\n",
            "[CV] ........ C=100, gamma=0.1, kernel=rbf, score=0.949, total=   0.7s\n",
            "[CV] C=100, gamma=0.1, kernel=rbf ....................................\n",
            "[CV] ........ C=100, gamma=0.1, kernel=rbf, score=0.961, total=   0.8s\n",
            "[CV] C=100, gamma=0.1, kernel=rbf ....................................\n",
            "[CV] ........ C=100, gamma=0.1, kernel=rbf, score=0.958, total=   0.7s\n",
            "[CV] C=100, gamma=0.01, kernel=rbf ...................................\n",
            "[CV] ....... C=100, gamma=0.01, kernel=rbf, score=0.942, total=   0.9s\n",
            "[CV] C=100, gamma=0.01, kernel=rbf ...................................\n",
            "[CV] ....... C=100, gamma=0.01, kernel=rbf, score=0.945, total=   0.8s\n",
            "[CV] C=100, gamma=0.01, kernel=rbf ...................................\n",
            "[CV] ....... C=100, gamma=0.01, kernel=rbf, score=0.941, total=   0.9s\n",
            "[CV] C=100, gamma=0.01, kernel=rbf ...................................\n",
            "[CV] ....... C=100, gamma=0.01, kernel=rbf, score=0.943, total=   0.8s\n",
            "[CV] C=100, gamma=0.01, kernel=rbf ...................................\n",
            "[CV] ....... C=100, gamma=0.01, kernel=rbf, score=0.941, total=   0.8s\n",
            "[CV] C=100, gamma=0.001, kernel=rbf ..................................\n",
            "[CV] ...... C=100, gamma=0.001, kernel=rbf, score=0.939, total=   1.2s\n",
            "[CV] C=100, gamma=0.001, kernel=rbf ..................................\n",
            "[CV] ...... C=100, gamma=0.001, kernel=rbf, score=0.938, total=   0.9s\n",
            "[CV] C=100, gamma=0.001, kernel=rbf ..................................\n",
            "[CV] ...... C=100, gamma=0.001, kernel=rbf, score=0.937, total=   0.8s\n",
            "[CV] C=100, gamma=0.001, kernel=rbf ..................................\n",
            "[CV] ...... C=100, gamma=0.001, kernel=rbf, score=0.938, total=   1.0s\n",
            "[CV] C=100, gamma=0.001, kernel=rbf ..................................\n",
            "[CV] ...... C=100, gamma=0.001, kernel=rbf, score=0.940, total=   1.0s\n",
            "[CV] C=100, gamma=0.0001, kernel=rbf .................................\n",
            "[CV] ..... C=100, gamma=0.0001, kernel=rbf, score=0.936, total=   0.8s\n",
            "[CV] C=100, gamma=0.0001, kernel=rbf .................................\n",
            "[CV] ..... C=100, gamma=0.0001, kernel=rbf, score=0.936, total=   0.7s\n",
            "[CV] C=100, gamma=0.0001, kernel=rbf .................................\n",
            "[CV] ..... C=100, gamma=0.0001, kernel=rbf, score=0.936, total=   0.7s\n",
            "[CV] C=100, gamma=0.0001, kernel=rbf .................................\n",
            "[CV] ..... C=100, gamma=0.0001, kernel=rbf, score=0.936, total=   0.7s\n",
            "[CV] C=100, gamma=0.0001, kernel=rbf .................................\n",
            "[CV] ..... C=100, gamma=0.0001, kernel=rbf, score=0.936, total=   0.8s\n",
            "[CV] C=1000, gamma=1, kernel=rbf .....................................\n",
            "[CV] ......... C=1000, gamma=1, kernel=rbf, score=0.972, total=   1.0s\n",
            "[CV] C=1000, gamma=1, kernel=rbf .....................................\n",
            "[CV] ......... C=1000, gamma=1, kernel=rbf, score=0.962, total=   0.9s\n",
            "[CV] C=1000, gamma=1, kernel=rbf .....................................\n",
            "[CV] ......... C=1000, gamma=1, kernel=rbf, score=0.959, total=   1.0s\n",
            "[CV] C=1000, gamma=1, kernel=rbf .....................................\n",
            "[CV] ......... C=1000, gamma=1, kernel=rbf, score=0.970, total=   1.1s\n",
            "[CV] C=1000, gamma=1, kernel=rbf .....................................\n",
            "[CV] ......... C=1000, gamma=1, kernel=rbf, score=0.964, total=   1.1s\n",
            "[CV] C=1000, gamma=0.1, kernel=rbf ...................................\n",
            "[CV] ....... C=1000, gamma=0.1, kernel=rbf, score=0.963, total=   1.0s\n",
            "[CV] C=1000, gamma=0.1, kernel=rbf ...................................\n",
            "[CV] ....... C=1000, gamma=0.1, kernel=rbf, score=0.961, total=   1.0s\n",
            "[CV] C=1000, gamma=0.1, kernel=rbf ...................................\n",
            "[CV] ....... C=1000, gamma=0.1, kernel=rbf, score=0.951, total=   0.9s\n",
            "[CV] C=1000, gamma=0.1, kernel=rbf ...................................\n",
            "[CV] ....... C=1000, gamma=0.1, kernel=rbf, score=0.966, total=   1.0s\n",
            "[CV] C=1000, gamma=0.1, kernel=rbf ...................................\n",
            "[CV] ....... C=1000, gamma=0.1, kernel=rbf, score=0.960, total=   1.0s\n",
            "[CV] C=1000, gamma=0.01, kernel=rbf ..................................\n",
            "[CV] ...... C=1000, gamma=0.01, kernel=rbf, score=0.951, total=   1.4s\n",
            "[CV] C=1000, gamma=0.01, kernel=rbf ..................................\n",
            "[CV] ...... C=1000, gamma=0.01, kernel=rbf, score=0.949, total=   1.8s\n",
            "[CV] C=1000, gamma=0.01, kernel=rbf ..................................\n",
            "[CV] ...... C=1000, gamma=0.01, kernel=rbf, score=0.944, total=   1.5s\n",
            "[CV] C=1000, gamma=0.01, kernel=rbf ..................................\n",
            "[CV] ...... C=1000, gamma=0.01, kernel=rbf, score=0.952, total=   1.8s\n",
            "[CV] C=1000, gamma=0.01, kernel=rbf ..................................\n",
            "[CV] ...... C=1000, gamma=0.01, kernel=rbf, score=0.948, total=   1.8s\n",
            "[CV] C=1000, gamma=0.001, kernel=rbf .................................\n",
            "[CV] ..... C=1000, gamma=0.001, kernel=rbf, score=0.941, total=   3.0s\n",
            "[CV] C=1000, gamma=0.001, kernel=rbf .................................\n",
            "[CV] ..... C=1000, gamma=0.001, kernel=rbf, score=0.940, total=   2.2s\n",
            "[CV] C=1000, gamma=0.001, kernel=rbf .................................\n",
            "[CV] ..... C=1000, gamma=0.001, kernel=rbf, score=0.934, total=   2.0s\n",
            "[CV] C=1000, gamma=0.001, kernel=rbf .................................\n",
            "[CV] ..... C=1000, gamma=0.001, kernel=rbf, score=0.938, total=   2.6s\n",
            "[CV] C=1000, gamma=0.001, kernel=rbf .................................\n",
            "[CV] ..... C=1000, gamma=0.001, kernel=rbf, score=0.940, total=   2.3s\n",
            "[CV] C=1000, gamma=0.0001, kernel=rbf ................................\n",
            "[CV] .... C=1000, gamma=0.0001, kernel=rbf, score=0.937, total=   1.8s\n",
            "[CV] C=1000, gamma=0.0001, kernel=rbf ................................\n",
            "[CV] .... C=1000, gamma=0.0001, kernel=rbf, score=0.936, total=   1.7s\n",
            "[CV] C=1000, gamma=0.0001, kernel=rbf ................................\n",
            "[CV] .... C=1000, gamma=0.0001, kernel=rbf, score=0.937, total=   1.3s\n",
            "[CV] C=1000, gamma=0.0001, kernel=rbf ................................\n",
            "[CV] .... C=1000, gamma=0.0001, kernel=rbf, score=0.938, total=   1.5s\n",
            "[CV] C=1000, gamma=0.0001, kernel=rbf ................................\n",
            "[CV] .... C=1000, gamma=0.0001, kernel=rbf, score=0.938, total=   1.4s\n"
          ],
          "name": "stdout"
        },
        {
          "output_type": "stream",
          "text": [
            "[Parallel(n_jobs=1)]: Done 125 out of 125 | elapsed:  1.5min finished\n"
          ],
          "name": "stderr"
        },
        {
          "output_type": "execute_result",
          "data": {
            "text/plain": [
              "GridSearchCV(cv=None, error_score=nan,\n",
              "             estimator=SVC(C=1.0, break_ties=False, cache_size=200,\n",
              "                           class_weight=None, coef0=0.0,\n",
              "                           decision_function_shape='ovr', degree=3,\n",
              "                           gamma='scale', kernel='rbf', max_iter=-1,\n",
              "                           probability=False, random_state=None, shrinking=True,\n",
              "                           tol=0.001, verbose=False),\n",
              "             iid='deprecated', n_jobs=None,\n",
              "             param_grid={'C': [0.1, 1, 10, 100, 1000],\n",
              "                         'gamma': [1, 0.1, 0.01, 0.001, 0.0001],\n",
              "                         'kernel': ['rbf']},\n",
              "             pre_dispatch='2*n_jobs', refit=True, return_train_score=False,\n",
              "             scoring=None, verbose=3)"
            ]
          },
          "metadata": {
            "tags": []
          },
          "execution_count": 148
        }
      ]
    },
    {
      "cell_type": "code",
      "metadata": {
        "colab": {
          "base_uri": "https://localhost:8080/"
        },
        "id": "G81NO2f22w2u",
        "outputId": "8ebd8997-ffb3-494b-d651-eb768e379669"
      },
      "source": [
        "# print all the best parameters gotten for model\n",
        "print(grid.best_params_)\n",
        "# print the model after hyperparameter tuning\n",
        "print(grid.best_estimator_)"
      ],
      "execution_count": null,
      "outputs": [
        {
          "output_type": "stream",
          "text": [
            "{'C': 1000, 'gamma': 1, 'kernel': 'rbf'}\n",
            "SVC(C=1000, break_ties=False, cache_size=200, class_weight=None, coef0=0.0,\n",
            "    decision_function_shape='ovr', degree=3, gamma=1, kernel='rbf', max_iter=-1,\n",
            "    probability=False, random_state=None, shrinking=True, tol=0.001,\n",
            "    verbose=False)\n"
          ],
          "name": "stdout"
        }
      ]
    },
    {
      "cell_type": "code",
      "metadata": {
        "colab": {
          "base_uri": "https://localhost:8080/"
        },
        "id": "4DoiuUkI21O8",
        "outputId": "22922f7d-0912-4343-f8a9-b14fda5c22f3"
      },
      "source": [
        "grid_predictions = grid.predict(X_test)\n",
        "# printing the results after hyperparameter tuning\n",
        "print(classification_report(y_test, grid_predictions))"
      ],
      "execution_count": null,
      "outputs": [
        {
          "output_type": "stream",
          "text": [
            "              precision    recall  f1-score   support\n",
            "\n",
            "           0       0.97      1.00      0.98      1201\n",
            "           1       0.93      0.49      0.64        76\n",
            "\n",
            "    accuracy                           0.97      1277\n",
            "   macro avg       0.95      0.74      0.81      1277\n",
            "weighted avg       0.97      0.97      0.96      1277\n",
            "\n"
          ],
          "name": "stdout"
        }
      ]
    },
    {
      "cell_type": "code",
      "metadata": {
        "colab": {
          "base_uri": "https://localhost:8080/"
        },
        "id": "nwgCstTh2QrK",
        "outputId": "38e75a94-798d-4ffa-bc18-b8de8176e00e"
      },
      "source": [
        "# SGDCLassifier Model\n",
        "clf= SGDClassifier(class_weight=\"balanced\",random_state=1)\n",
        "clf.fit(X_over, y_over)\n",
        "predictions = clf.predict(X_test)\n",
        "# print('Coefficients = ', clf.coef_)\n",
        "# print('Intercept = ', clf.intercept_)\n",
        "print(\"Result for SGD Classifier\")\n",
        "print('Accuracy {}'.format(clf.score(X_test, y_test)))\n",
        "print(classification_report(y_test, predictions))\n",
        "from sklearn.metrics import f1_score\n",
        "f1=0\n",
        "f1 += f1_score(y_test, predictions, average='macro')\n",
        "f1 += f1_score(y_test, predictions, average='micro')\n",
        "f1 += f1_score(y_test, predictions, average='weighted')\n",
        "f1 = f1/3 \n",
        "print(\"F1 score: \" + str(f1))"
      ],
      "execution_count": null,
      "outputs": [
        {
          "output_type": "stream",
          "text": [
            "Result for SGD Classifier\n",
            "Accuracy 0.6217697729052467\n",
            "              precision    recall  f1-score   support\n",
            "\n",
            "           0       0.96      0.62      0.76      1201\n",
            "           1       0.09      0.61      0.16        76\n",
            "\n",
            "    accuracy                           0.62      1277\n",
            "   macro avg       0.53      0.61      0.46      1277\n",
            "weighted avg       0.91      0.62      0.72      1277\n",
            "\n",
            "F1 score: 0.6000696269324383\n"
          ],
          "name": "stdout"
        }
      ]
    },
    {
      "cell_type": "code",
      "metadata": {
        "colab": {
          "base_uri": "https://localhost:8080/",
          "height": 295
        },
        "id": "gj1nuTXf085k",
        "outputId": "8093c26e-5b9e-432b-9ff4-0c5314e23514"
      },
      "source": [
        "# ROC curve for SGD Classifier and area under curve value\n",
        "logit_roc_auc = roc_auc_score(y, clf.predict(x))\n",
        "fpr, tpr, thresholds = roc_curve(y, clf.predict(x))\n",
        "plt.figure()\n",
        "plt.plot(fpr, tpr, label='SGDClassifier (area = %0.2f)' % logit_roc_auc)\n",
        "plt.plot([0, 1], [0, 1],'r--')\n",
        "plt.xlim([0.0, 1.0])\n",
        "plt.ylim([0.0, 1.05])\n",
        "plt.xlabel('False Positive Rate')\n",
        "plt.ylabel('True Positive Rate')\n",
        "plt.title('Receiver operating characteristic')\n",
        "plt.legend(loc=\"lower right\")\n",
        "plt.show()"
      ],
      "execution_count": null,
      "outputs": [
        {
          "output_type": "display_data",
          "data": {
            "image/png": "[encoded data removed]",
            "text/plain": [
              "<Figure size 432x288 with 1 Axes>"
            ]
          },
          "metadata": {
            "tags": [],
            "needs_background": "light"
          }
        }
      ]
    },
    {
      "cell_type": "code",
      "metadata": {
        "id": "UPKCHEQh1EDx"
      },
      "source": [
        "X_train, X_val, y_train, y_val = train_test_split(x,y, test_size=0.20, random_state=40)"
      ],
      "execution_count": null,
      "outputs": []
    },
    {
      "cell_type": "code",
      "metadata": {
        "id": "cKOA8H7dzlxY"
      },
      "source": [
        "# hyperparameter tuning for SGDCLassfier but SVM got the best result so we took that one for our final model training\n",
        "# from sklearn.model_selection import ParameterGrid\n",
        "# from sklearn.linear_model import SGDClassifier\n",
        "# from sklearn.metrics import roc_auc_score\n",
        "# import parfit.parfit as pf\n",
        "\n",
        "# grid = {\n",
        "#     'alpha': [1e-4, 1e-3, 1e-2, 1e-1, 1e0, 1e1, 1e2, 1e3], # learning rate\n",
        "#     'n_iter': [1000], # number of epochs\n",
        "#     'loss': ['log'], # logistic regression,\n",
        "#     'penalty': ['l2'],\n",
        "#     'n_jobs': [-1]\n",
        "# }\n",
        "# paramGrid = ParameterGrid(grid)\n",
        "\n",
        "# bestModel, bestScore, allModels, allScores = pf.bestFit(SGDClassifier, paramGrid,X_train, y_train, X_val, y_val,  metric = roc_auc_score, bestScore='max',scoreLabel = \"AUC\")\n",
        "\n",
        "# print(bestModel, bestScore)"
      ],
      "execution_count": null,
      "outputs": []
    },
    {
      "cell_type": "code",
      "metadata": {
        "id": "TA5z6pBnjQxw"
      },
      "source": [
        "# data and columns taken into consideration with feature selection\n",
        "data = df.drop(['Hit/Dismiss'],axis=1).drop(['Commit A'],axis=1).drop(['Commit B'],axis=1).drop(['Benchmark'],axis=1).drop(['Top Chg by Instr >= X%'],axis=1).drop(['AltCountLineBlank'],axis=1).drop(['AltCountLineCode'],axis=1).drop(['AltCountLineComment'],axis=1).drop(['CountLine'],axis=1).drop(['CountLineBlank'],axis=1).drop(['CountLineCodeExe'],axis=1).drop(['CountLineComment'],axis=1).drop(['CountLineInactive'],axis=1).drop(['CountLinePreprocessor'],axis=1).drop(['CountSemicolon'],axis=1).drop(['CountStmt'],axis=1).drop(['CountStmtDecl'],axis=1).drop(['CountStmtEmpty'],axis=1).drop(['CountStmtExe'],axis=1).drop(['SumCyclomatic'],axis=1).drop(['SumCyclomaticModified'],axis=1).drop(['SumCyclomaticStrict'],axis=1).drop(['SumEssential'],axis=1).drop(['MaxCyclomatic'],axis=1).drop(['MaxCyclomaticModified'],axis=1).drop(['MaxCyclomaticStrict'],axis=1).drop(['AltAvgLineBlank'],axis=1).drop(['AltAvgLineCode'],axis=1).drop(['AltAvgLineComment'],axis=1).drop(['AvgCyclomatic'],axis=1).drop(['AvgCyclomaticModified'],axis=1).drop(['AvgCyclomaticStrict'],axis=1).drop(['AvgLineBlank'],axis=1).drop(['AvgLineComment'],axis=1).drop(['Cyclomatic'],axis=1).drop(['CyclomaticModified'],axis=1).drop(['CyclomaticStrict'],axis=1).drop(['AvgLine'],axis=1).drop(['AvgEssential'],axis=1).drop(['AvgLineCode'],axis=1).drop(['Top Reached Chg Len >= X%'],axis=1).drop(['CountLineCodeDecl'],axis=1)"
      ],
      "execution_count": null,
      "outputs": []
    },
    {
      "cell_type": "code",
      "metadata": {
        "colab": {
          "base_uri": "https://localhost:8080/"
        },
        "id": "MyLKMokVk38U",
        "outputId": "06608960-dd31-4c1c-c076-f812894ff8c0"
      },
      "source": [
        "# columns selected after the feature selection method(Feature Selection Method done by RJ)\n",
        "for col in data.columns:\n",
        "    print(col)"
      ],
      "execution_count": null,
      "outputs": [
        {
          "output_type": "stream",
          "text": [
            "Del Func >= X\n",
            "New Func >= X\n",
            "Reached Del Func >= X\n",
            "Top Chg by Call >= X%\n",
            "Top > X% by Call Chg by >= 10%\n",
            "Top Chg Len >= X%\n",
            "CountLineCode\n",
            "MaxNesting\n"
          ],
          "name": "stdout"
        }
      ]
    },
    {
      "cell_type": "code",
      "metadata": {
        "colab": {
          "base_uri": "https://localhost:8080/"
        },
        "id": "yMo3AtgICSwD",
        "outputId": "1369673a-c712-49a7-fe17-4599a0c622f0"
      },
      "source": [
        "# data preprocessing\n",
        "data = preprocessing.normalize(data)\n",
        "data = preprocessing.scale(data)\n",
        "oversample = RandomOverSampler(sampling_strategy='minority')\n",
        "x = data\n",
        "y = df['Hit/Dismiss'].values\n",
        "X_over, y_over = oversample.fit_resample(x, y)\n",
        "X_train, X_test, y_train, y_test = train_test_split(x,y, test_size=0.20, random_state=40)"
      ],
      "execution_count": null,
      "outputs": [
        {
          "output_type": "stream",
          "text": [
            "/usr/local/lib/python3.7/dist-packages/sklearn/utils/deprecation.py:87: FutureWarning: Function safe_indexing is deprecated; safe_indexing is deprecated in version 0.22 and will be removed in version 0.24.\n",
            "  warnings.warn(msg, category=FutureWarning)\n"
          ],
          "name": "stderr"
        }
      ]
    },
    {
      "cell_type": "code",
      "metadata": {
        "colab": {
          "base_uri": "https://localhost:8080/"
        },
        "id": "bDtGrowwCXvU",
        "outputId": "4a87a8da-8466-4969-eea2-1268b16c5d15"
      },
      "source": [
        "# SVM trained with feature selected \n",
        "lf = svm.LinearSVC()\n",
        "lf.fit(X_over,y_over)\n",
        "predictions = lf.predict(X_test)\n",
        "print(\"Result for SVM\")\n",
        "print('Accuracy {}'.format(lf.score(X_test,y_test)))\n",
        "# print('Confusion = {}'.format(metrics.confusion_matrix(predictions, y_test, [0,1])))\n",
        "print(classification_report(y_test, predictions))\n",
        "# print('Actual hit(Training)   ', y_train)\n",
        "# mac = f1_score(y_over, predictions, average='macro')\n",
        "# mic = f1_score(y_over, predictions, average='micro')\n",
        "# wei = f1_score(y_over, predictions, average='weighted')\n",
        "# f1_score = (mac + mic +wei)/3\n",
        "# print(\"F1 score: \" + str(f1_score))\n",
        "mac = f1_score(y_test, predictions, average='macro')\n",
        "mic = f1_score(y_test, predictions, average='micro')\n",
        "wei = f1_score(y_test, predictions, average='weighted')\n",
        "f1_score = (mac + mic +wei)/3\n",
        "print(\"F1 score: \" + str(f1_score))"
      ],
      "execution_count": null,
      "outputs": [
        {
          "output_type": "stream",
          "text": [
            "Result for SVM\n",
            "Accuracy 0.4839467501957713\n",
            "              precision    recall  f1-score   support\n",
            "\n",
            "           0       0.95      0.48      0.63      1201\n",
            "           1       0.07      0.62      0.12        76\n",
            "\n",
            "    accuracy                           0.48      1277\n",
            "   macro avg       0.51      0.55      0.38      1277\n",
            "weighted avg       0.90      0.48      0.60      1277\n",
            "\n",
            "F1 score: 0.48906458879832354\n"
          ],
          "name": "stdout"
        },
        {
          "output_type": "stream",
          "text": [
            "/usr/local/lib/python3.7/dist-packages/sklearn/svm/_base.py:947: ConvergenceWarning: Liblinear failed to converge, increase the number of iterations.\n",
            "  \"the number of iterations.\", ConvergenceWarning)\n"
          ],
          "name": "stderr"
        }
      ]
    },
    {
      "cell_type": "code",
      "metadata": {
        "colab": {
          "base_uri": "https://localhost:8080/",
          "height": 295
        },
        "id": "IRWGEyJHygxo",
        "outputId": "c7fb47fc-682d-45ba-e7b8-989028e20893"
      },
      "source": [
        "# ROC curve and area uder curve value \n",
        "logit_roc_auc = roc_auc_score(y, lf.predict(x))\n",
        "fpr, tpr, thresholds = roc_curve(y, lf.predict(x))\n",
        "plt.figure()\n",
        "plt.plot(fpr, tpr, label='SVM (area = %0.2f)' % logit_roc_auc)\n",
        "plt.plot([0, 1], [0, 1],'r--')\n",
        "plt.xlim([0.0, 1.0])\n",
        "plt.ylim([0.0, 1.05])\n",
        "plt.xlabel('False Positive Rate')\n",
        "plt.ylabel('True Positive Rate')\n",
        "plt.title('Receiver operating characteristic')\n",
        "plt.legend(loc=\"lower right\")\n",
        "plt.show()"
      ],
      "execution_count": null,
      "outputs": [
        {
          "output_type": "display_data",
          "data": {
            "image/png": "[encoded data removed]",
            "text/plain": [
              "<Figure size 432x288 with 1 Axes>"
            ]
          },
          "metadata": {
            "tags": [],
            "needs_background": "light"
          }
        }
      ]
    },
    {
      "cell_type": "code",
      "metadata": {
        "id": "i-G_NB92GFrV",
        "colab": {
          "base_uri": "https://localhost:8080/"
        },
        "outputId": "d18ad513-ae15-485b-a2b5-94f4128fe89e"
      },
      "source": [
        "# SGDClassifier with feature selection method\n",
        "clf= SGDClassifier(class_weight=\"balanced\",random_state=1)\n",
        "clf.fit(X_over, y_over)\n",
        "predictions = clf.predict(X_test)\n",
        "# print('Coefficients = ', clf.coef_)\n",
        "# print('Intercept = ', clf.intercept_)\n",
        "print(\"Result for SGD Classifier\")\n",
        "print('Accuracy {}'.format(clf.score(X_test, y_test)))\n",
        "print(classification_report(y_test, predictions))\n",
        "from sklearn.metrics import f1_score\n",
        "f1=0\n",
        "f1 += f1_score(y_test, predictions, average='macro')\n",
        "f1 += f1_score(y_test, predictions, average='micro')\n",
        "f1 += f1_score(y_test, predictions, average='weighted')\n",
        "f1 = f1/3 \n",
        "print(\"F1 score: \" + str(f1))"
      ],
      "execution_count": null,
      "outputs": [
        {
          "output_type": "stream",
          "text": [
            "Result for SGD Classifier\n",
            "Accuracy 0.6147220046985121\n",
            "              precision    recall  f1-score   support\n",
            "\n",
            "           0       0.95      0.62      0.75      1201\n",
            "           1       0.08      0.53      0.14        76\n",
            "\n",
            "    accuracy                           0.61      1277\n",
            "   macro avg       0.52      0.57      0.45      1277\n",
            "weighted avg       0.90      0.61      0.72      1277\n",
            "\n",
            "F1 score: 0.5919612190478333\n"
          ],
          "name": "stdout"
        }
      ]
    },
    {
      "cell_type": "code",
      "metadata": {
        "id": "Y7hWyB4l5oSt"
      },
      "source": [
        "# logistic regression with feature selection method\n",
        "model1 = LogisticRegression()\n",
        "model1.fit(X_train, y_train)\n",
        "pred_prob1 = model1.predict_proba(X_test)"
      ],
      "execution_count": null,
      "outputs": []
    },
    {
      "cell_type": "code",
      "metadata": {
        "colab": {
          "base_uri": "https://localhost:8080/"
        },
        "id": "N4t6hEB_6JMO",
        "outputId": "55e44c94-6149-450d-ab08-e048e4b0d2ac"
      },
      "source": [
        "auc_score1 = roc_auc_score(y_test, pred_prob1[:,1])\n",
        "print(auc_score1)"
      ],
      "execution_count": null,
      "outputs": [
        {
          "output_type": "stream",
          "text": [
            "0.5625410841842323\n"
          ],
          "name": "stdout"
        }
      ]
    },
    {
      "cell_type": "code",
      "metadata": {
        "colab": {
          "base_uri": "https://localhost:8080/",
          "height": 295
        },
        "id": "uDGaWoc26MdF",
        "outputId": "9ff79f8d-7391-45ff-bc69-c91faab5356e"
      },
      "source": [
        "# ROC curve for logistic regression with feature selected\n",
        "logit_roc_auc = roc_auc_score(y, model1.predict(x))\n",
        "fpr, tpr, thresh = roc_curve(y_test, pred_prob1[:,1], pos_label=1)\n",
        "plt.figure()\n",
        "plt.plot(fpr, tpr, label='LR (area = %0.2f)' % auc_score1)\n",
        "plt.plot([0, 1], [0, 1],'r--')\n",
        "plt.xlim([0.0, 1.0])\n",
        "plt.ylim([0.0, 1.05])\n",
        "plt.xlabel('False Positive Rate')\n",
        "plt.ylabel('True Positive Rate')\n",
        "plt.title('Receiver operating characteristic')\n",
        "plt.legend(loc=\"lower right\")\n",
        "plt.show()"
      ],
      "execution_count": null,
      "outputs": [
        {
          "output_type": "display_data",
          "data": {
            "image/png": "[encoded data removed]",
            "text/plain": [
              "<Figure size 432x288 with 1 Axes>"
            ]
          },
          "metadata": {
            "tags": [],
            "needs_background": "light"
          }
        }
      ]
    }
  ]
}
